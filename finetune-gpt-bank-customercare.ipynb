{
  "cells": [
    {
      "cell_type": "code",
      "execution_count": null,
      "metadata": {
        "id": "j3THFM_-NKU9"
      },
      "outputs": [],
      "source": [
        "from datasets import load_dataset\n",
        "ds = load_dataset(\"argilla/llama-2-banking-fine-tune\",split=\"train\")"
      ]
    },
    {
      "cell_type": "code",
      "execution_count": null,
      "metadata": {
        "colab": {
          "base_uri": "https://localhost:8080/"
        },
        "id": "W6xhETpLNQnO",
        "outputId": "2ffa61be-af4f-4238-895e-cc8a2c370c20"
      },
      "outputs": [],
      "source": [
        "len(ds)"
      ]
    },
    {
      "cell_type": "code",
      "execution_count": null,
      "metadata": {
        "colab": {
          "base_uri": "https://localhost:8080/"
        },
        "id": "1VD9iJf8NRPD",
        "outputId": "1033c5d8-3235-4e0c-9644-7e539dae5360"
      },
      "outputs": [],
      "source": [
        "ds[0]"
      ]
    },
    {
      "cell_type": "code",
      "execution_count": 5,
      "metadata": {
        "id": "I6ZbWswbNRuE"
      },
      "outputs": [],
      "source": [
        "ds_formatted = [\n",
        "    {\"messages\": [\n",
        "        {\"role\": \"system\", \"content\": \"You are a customer service representative from Bank of America. Please reply customer requests using polite and respectful language.\"},\n",
        "        {'role': 'user', 'content': x[\"request\"]},\n",
        "        {'role': 'assistant', 'content': x[\"response-1\"]}]} for x in ds\n",
        "]"
      ]
    },
    {
      "cell_type": "code",
      "execution_count": null,
      "metadata": {
        "colab": {
          "base_uri": "https://localhost:8080/"
        },
        "id": "lpqKy5n1Ohcv",
        "outputId": "5443ac02-6718-44ad-e0a0-6cf4109981bc"
      },
      "outputs": [],
      "source": [
        "ds_formatted[0]"
      ]
    },
    {
      "cell_type": "code",
      "execution_count": 7,
      "metadata": {
        "id": "PDQsakWXNT4g"
      },
      "outputs": [],
      "source": [
        "import random\n",
        "random.shuffle(ds_formatted)"
      ]
    },
    {
      "cell_type": "code",
      "execution_count": 8,
      "metadata": {
        "id": "BRv_c6HQNVbb"
      },
      "outputs": [],
      "source": [
        "ds_train = ds_formatted[:80]\n",
        "ds_val = ds_formatted[80:]"
      ]
    },
    {
      "cell_type": "code",
      "execution_count": 9,
      "metadata": {
        "id": "0VqVAkCYOfIj"
      },
      "outputs": [],
      "source": [
        "import json\n",
        "\n",
        "with open('train.jsonl', 'w') as f:\n",
        "    for line in ds_train:\n",
        "        json.dump(line, f)\n",
        "        f.write('\\n')\n",
        "\n",
        "with open('val.jsonl', 'w') as f:\n",
        "    for line in ds_val:\n",
        "        json.dump(line, f)\n",
        "        f.write('\\n')"
      ]
    },
    {
      "cell_type": "code",
      "execution_count": null,
      "metadata": {
        "colab": {
          "base_uri": "https://localhost:8080/"
        },
        "id": "-PJyCbRXOnas",
        "outputId": "91d8f8d8-fd45-481c-b022-75931abe0f71"
      },
      "outputs": [],
      "source": [
        "ls"
      ]
    },
    {
      "cell_type": "markdown",
      "metadata": {
        "id": "5WvtMNwNa9Rh"
      },
      "source": [
        "# Upload data"
      ]
    },
    {
      "cell_type": "code",
      "execution_count": 13,
      "metadata": {
        "id": "j3wHXgPyO2G_"
      },
      "outputs": [],
      "source": [
        "import os\n",
        "from dotenv import load_dotenv\n",
        "from openai import OpenAI\n",
        "load_dotenv()\n",
        "\n",
        "API_KEY = os.getenv('OPENAI_API_KEY')\n",
        "client = OpenAI(api_key= API_KEY )"
      ]
    },
    {
      "cell_type": "code",
      "execution_count": null,
      "metadata": {
        "colab": {
          "base_uri": "https://localhost:8080/"
        },
        "id": "8Ta8v-7_WVV-",
        "outputId": "fd556633-1e7b-4afd-f576-dad236a55aec"
      },
      "outputs": [],
      "source": [
        "from pathlib import Path\n",
        "# Upload training data\n",
        "train = client.files.create(\n",
        "  file=Path('train.jsonl'),\n",
        "  purpose='fine-tune'\n",
        ")\n",
        "train"
      ]
    },
    {
      "cell_type": "code",
      "execution_count": null,
      "metadata": {
        "id": "iEw1aWAjbTrT"
      },
      "outputs": [],
      "source": [
        "train_id = train.id\n",
        "train_id"
      ]
    },
    {
      "cell_type": "code",
      "execution_count": null,
      "metadata": {
        "colab": {
          "base_uri": "https://localhost:8080/"
        },
        "id": "spFGxDnOO6-n",
        "outputId": "1746c670-3351-4352-ef9c-ae2b1c683c36"
      },
      "outputs": [],
      "source": [
        "from pathlib import Path\n",
        "# Upload validation data\n",
        "val = client.files.create(\n",
        "  file=Path('val.jsonl'),\n",
        "  purpose='fine-tune'\n",
        ")\n",
        "val"
      ]
    },
    {
      "cell_type": "code",
      "execution_count": null,
      "metadata": {
        "id": "BocEalNXbhJn"
      },
      "outputs": [],
      "source": [
        "val_id = val.id\n",
        "val_id"
      ]
    },
    {
      "cell_type": "code",
      "execution_count": null,
      "metadata": {
        "colab": {
          "base_uri": "https://localhost:8080/"
        },
        "id": "c3hKOshkp5Zf",
        "outputId": "2f68679d-4f45-4c12-a7a2-77da7e011a7f"
      },
      "outputs": [],
      "source": [
        "client.files.list()"
      ]
    },
    {
      "cell_type": "markdown",
      "metadata": {
        "id": "z11XZRk3bFwz"
      },
      "source": [
        "# Fine-tuning"
      ]
    },
    {
      "cell_type": "code",
      "execution_count": null,
      "metadata": {
        "colab": {
          "base_uri": "https://localhost:8080/"
        },
        "id": "toXpW-QfWUeY",
        "outputId": "b45893b5-d737-4712-f5c7-b1903c965fb7"
      },
      "outputs": [],
      "source": [
        "# Create a fine-tuned model\n",
        "response = client.fine_tuning.jobs.create(\n",
        "    model = \"gpt-3.5-turbo\",\n",
        "    training_file=train_id,\n",
        "    validation_file=val_id,\n",
        "    suffix=\"gpt-bank-custom\"\n",
        "    )\n",
        "response"
      ]
    },
    {
      "cell_type": "code",
      "execution_count": null,
      "metadata": {
        "id": "DaXK5LNKh19c"
      },
      "outputs": [],
      "source": [
        "job_id = response.id\n",
        "job_id"
      ]
    },
    {
      "cell_type": "code",
      "execution_count": null,
      "metadata": {
        "colab": {
          "base_uri": "https://localhost:8080/"
        },
        "id": "Ra2HyQEyhMyg",
        "outputId": "399b1dd1-f7a2-4d6e-ab8d-ac379b626a84"
      },
      "outputs": [],
      "source": [
        "# Retrieve the state of a fine-tune\n",
        "response =  client.fine_tuning.jobs.retrieve(job_id)\n",
        "response"
      ]
    },
    {
      "cell_type": "code",
      "execution_count": null,
      "metadata": {
        "colab": {
          "base_uri": "https://localhost:8080/"
        },
        "id": "Gd-PUDHMtsm1",
        "outputId": "7c30ba1f-2329-4a43-8eaf-75b5e09a1606"
      },
      "outputs": [],
      "source": [
        "fine_tune_model_id = response.fine_tuned_model\n",
        "fine_tune_model_id"
      ]
    },
    {
      "cell_type": "markdown",
      "metadata": {
        "id": "V7xaeR4RcPbO"
      },
      "source": [
        "# Inference"
      ]
    },
    {
      "cell_type": "code",
      "execution_count": null,
      "metadata": {
        "id": "2yFcJOJ6zHr6"
      },
      "outputs": [],
      "source": [
        "test_messages = [\n",
        "    {\"role\": \"system\", \"content\": \"You are a customer service representative from Bank of America. Please reply customer requests using polite and respectful language.\"},\n",
        "    {\"role\": \"user\", \"content\": \"My card is stolen!\"}\n",
        "  ]"
      ]
    },
    {
      "cell_type": "code",
      "execution_count": null,
      "metadata": {
        "id": "KIrollSbXEGu"
      },
      "outputs": [],
      "source": [
        "completion = client.chat.completions.create(\n",
        "  model=fine_tune_model_id,\n",
        "  messages=test_messages,\n",
        "  temperature=0\n",
        ")\n"
      ]
    },
    {
      "cell_type": "code",
      "execution_count": null,
      "metadata": {
        "colab": {
          "base_uri": "https://localhost:8080/"
        },
        "id": "MXeXJFNkZ2l7",
        "outputId": "0c72d59a-1941-4191-a0e2-db6b3da9de75"
      },
      "outputs": [],
      "source": [
        "print(completion.choices[0].message.content)"
      ]
    },
    {
      "cell_type": "code",
      "execution_count": null,
      "metadata": {
        "id": "HzXQj5BIzVi1"
      },
      "outputs": [],
      "source": [
        "completion1 = client.chat.completions.create(\n",
        "  model=\"gpt-3.5-turbo\",\n",
        "  messages=test_messages\n",
        ")"
      ]
    },
    {
      "cell_type": "code",
      "execution_count": null,
      "metadata": {
        "colab": {
          "base_uri": "https://localhost:8080/"
        },
        "id": "OxVpFANeuO4K",
        "outputId": "24d9df21-955b-489d-b63f-db5a0f1646ce"
      },
      "outputs": [],
      "source": [
        "print(completion1.choices[0].message.content)"
      ]
    }
  ],
  "metadata": {
    "colab": {
      "provenance": []
    },
    "kernelspec": {
      "display_name": "Python 3",
      "name": "python3"
    },
    "language_info": {
      "codemirror_mode": {
        "name": "ipython",
        "version": 3
      },
      "file_extension": ".py",
      "mimetype": "text/x-python",
      "name": "python",
      "nbconvert_exporter": "python",
      "pygments_lexer": "ipython3",
      "version": "3.11.7"
    }
  },
  "nbformat": 4,
  "nbformat_minor": 0
}
